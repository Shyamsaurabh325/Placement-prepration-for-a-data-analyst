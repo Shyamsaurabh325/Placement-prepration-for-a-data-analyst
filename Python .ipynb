{
 "cells": [
  {
   "cell_type": "markdown",
   "id": "40707360-19c5-44df-97b1-41ee273fca77",
   "metadata": {},
   "source": [
    "## OOPS Concept"
   ]
  },
  {
   "cell_type": "code",
   "execution_count": 2,
   "id": "92606eac-19aa-4926-8f4a-573ba6b6b432",
   "metadata": {},
   "outputs": [
    {
     "name": "stdout",
     "output_type": "stream",
     "text": [
      "Toyota\n",
      "Corolla\n",
      "Toyota Corolla's engine started.\n"
     ]
    }
   ],
   "source": [
    "# Class definition\n",
    "class Car:\n",
    "    def __init__(self, make, model):\n",
    "        self.make = make  # Attribute\n",
    "        self.model = model  # Attribute\n",
    "\n",
    "    def start_engine(self):  # Method\n",
    "        return f\"{self.make} {self.model}'s engine started.\"\n",
    "\n",
    "# Creating an object\n",
    "my_car = Car(\"Toyota\", \"Corolla\")\n",
    "\n",
    "# Accessing attributes and methods\n",
    "print(my_car.make)  # Output: Toyota\n",
    "print(my_car.model)  # Output: Corolla\n",
    "print(my_car.start_engine())  # Output: Toyota Corolla's engine started.\n"
   ]
  },
  {
   "cell_type": "code",
   "execution_count": 3,
   "id": "bcadddeb-5dbc-43b1-8171-f76c9002a8e2",
   "metadata": {},
   "outputs": [
    {
     "name": "stdout",
     "output_type": "stream",
     "text": [
      "Buddy barks.\n"
     ]
    }
   ],
   "source": [
    "# Base class (Parent)\n",
    "class Animal:\n",
    "    def __init__(self, name):\n",
    "        self.name = name\n",
    "\n",
    "    def speak(self):\n",
    "        return f\"{self.name} makes a sound.\"\n",
    "\n",
    "# Derived class (Child)\n",
    "class Dog(Animal):\n",
    "    def speak(self):\n",
    "        return f\"{self.name} barks.\"\n",
    "\n",
    "# Creating an object of the derived class\n",
    "my_dog = Dog(\"Buddy\")\n",
    "print(my_dog.speak())  # Output: Buddy barks.\n"
   ]
  },
  {
   "cell_type": "code",
   "execution_count": 6,
   "id": "326052f7-c95d-4570-98a9-baa68ba78028",
   "metadata": {},
   "outputs": [
    {
     "name": "stdout",
     "output_type": "stream",
     "text": [
      "1300\n"
     ]
    }
   ],
   "source": [
    "class BankAccount:\n",
    "    def __init__(self, balance):\n",
    "        self.__balance = balance  # Private attribute\n",
    "\n",
    "    def deposit(self, amount):\n",
    "        self.__balance += amount\n",
    "\n",
    "    def withdraw(self, amount):\n",
    "        if amount <= self.__balance:\n",
    "            self.__balance -= amount\n",
    "        else:\n",
    "            return \"Insufficient funds.\"\n",
    "\n",
    "    def get_balance(self):\n",
    "        return self.__balance\n",
    "\n",
    "\n",
    "# Creating an object\n",
    "account = BankAccount(1000)\n",
    "account.deposit(500)\n",
    "account.withdraw(200)\n",
    "print(account.get_balance())  # Output: 1300"
   ]
  },
  {
   "cell_type": "code",
   "execution_count": 7,
   "id": "f73a0bce-3fb8-4497-811a-6393162cd10b",
   "metadata": {},
   "outputs": [
    {
     "name": "stdout",
     "output_type": "stream",
     "text": [
      "Bird is flying.\n",
      "Airplane is flying.\n"
     ]
    }
   ],
   "source": [
    "class Bird:\n",
    "    def fly(self):\n",
    "        return \"Bird is flying.\"\n",
    "\n",
    "class Airplane:\n",
    "    def fly(self):\n",
    "        return \"Airplane is flying.\"\n",
    "\n",
    "# Polymorphic behavior\n",
    "def let_it_fly(flying_object):\n",
    "    print(flying_object.fly())\n",
    "\n",
    "bird = Bird()\n",
    "airplane = Airplane()\n",
    "\n",
    "let_it_fly(bird)  # Output: Bird is flying.\n",
    "let_it_fly(airplane)  # Output: Airplane is flying.\n"
   ]
  },
  {
   "cell_type": "code",
   "execution_count": 8,
   "id": "252bdd79-ec68-4159-a920-9a5e03a77c77",
   "metadata": {},
   "outputs": [
    {
     "name": "stdout",
     "output_type": "stream",
     "text": [
      "Car engine started.\n",
      "Motorcycle engine started.\n"
     ]
    }
   ],
   "source": [
    "from abc import ABC, abstractmethod\n",
    "\n",
    "class Vehicle(ABC):\n",
    "    @abstractmethod\n",
    "    def start_engine(self):\n",
    "        pass\n",
    "\n",
    "class Car(Vehicle):\n",
    "    def start_engine(self):\n",
    "        return \"Car engine started.\"\n",
    "\n",
    "class Motorcycle(Vehicle):\n",
    "    def start_engine(self):\n",
    "        return \"Motorcycle engine started.\" \n",
    "\n",
    "# Creating objects\n",
    "car = Car()\n",
    "motorcycle = Motorcycle()\n",
    "\n",
    "print(car.start_engine())  # Output: Car engine started.\n",
    "print(motorcycle.start_engine())  # Output: Motorcycle engine started.\n"
   ]
  },
  {
   "cell_type": "code",
   "execution_count": null,
   "id": "a5a57bb5-02b6-4247-a961-e53461c0feb1",
   "metadata": {},
   "outputs": [],
   "source": []
  },
  {
   "cell_type": "markdown",
   "id": "20502607-6817-4e86-9929-b05f4dcecba5",
   "metadata": {},
   "source": [
    "## Airthmetic Operator"
   ]
  },
  {
   "cell_type": "code",
   "execution_count": 9,
   "id": "75bdd2e5-8db1-4057-90e0-668e35d439ad",
   "metadata": {},
   "outputs": [
    {
     "name": "stdout",
     "output_type": "stream",
     "text": [
      "a + b = 15\n",
      "a - b = 5\n",
      "a * b = 50\n",
      "a / b = 2.0\n",
      "a % b = 0\n",
      "a // b = 2\n",
      "a ** b = 100000\n"
     ]
    }
   ],
   "source": [
    "# Assigning values to variables\n",
    "a = 10\n",
    "b = 5\n",
    "# Addition\n",
    "print('a + b =', a + b)\n",
    "# Subtraction\n",
    "print('a - b =', a - b)\n",
    "# Multiplication\n",
    "print('a * b =', a * b)\n",
    "# Division\n",
    "print('a / b =', a / b)\n",
    "# Modulus\n",
    "print('a % b =', a % b)\n",
    "# Floor Division\n",
    "print('a // b =', a // b)\n",
    "# Exponent\n",
    "print('a ** b =', a ** b)"
   ]
  },
  {
   "cell_type": "code",
   "execution_count": null,
   "id": "615a07a4-4506-458c-ad5d-7abf8c0205c3",
   "metadata": {},
   "outputs": [],
   "source": []
  },
  {
   "cell_type": "markdown",
   "id": "993728cd-cf29-4cb5-87b9-0ed9d8789964",
   "metadata": {},
   "source": [
    "## Control and Conditional Structures"
   ]
  },
  {
   "cell_type": "markdown",
   "id": "23ea18fc-1bdb-4333-9dd6-21ce4db51742",
   "metadata": {},
   "source": [
    "## If Statement"
   ]
  },
  {
   "cell_type": "code",
   "execution_count": 10,
   "id": "42a670d8-b6e9-4213-ae3a-78ef353a994b",
   "metadata": {},
   "outputs": [
    {
     "name": "stdout",
     "output_type": "stream",
     "text": [
      "Passing grade\n"
     ]
    }
   ],
   "source": [
    "# if statement:\n",
    "grade = 70\n",
    "if grade >= 65:\n",
    "    print(\"Passing grade\")"
   ]
  },
  {
   "cell_type": "code",
   "execution_count": 11,
   "id": "b46ed9bf-a17b-49d2-b6ef-87ee625ae9b1",
   "metadata": {},
   "outputs": [
    {
     "name": "stdout",
     "output_type": "stream",
     "text": [
      "3 is a positive number.\n",
      "This is always printed.\n",
      "This is also always printed.\n"
     ]
    }
   ],
   "source": [
    "# Example 2: If the number is positive, we print an appropriate message\n",
    "\n",
    "num = 3\n",
    "if (num > 0):  # if condition is TRUE: enter the body of if\n",
    "    print(num, \"is a positive number.\")\n",
    "print(\"This is always printed.\")\n",
    "\n",
    "num = -1\n",
    "if num > 0:  # if condition is FALSE: do not enter the body of if\n",
    "    print(num, \"is a negative number.\")\n",
    "print(\"This is also always printed.\")"
   ]
  },
  {
   "cell_type": "code",
   "execution_count": 12,
   "id": "b8404858-3b59-486c-be24-1c741af3bf38",
   "metadata": {},
   "outputs": [
    {
     "name": "stdout",
     "output_type": "stream",
     "text": [
      "81\n",
      "Next lines of code\n"
     ]
    }
   ],
   "source": [
    "# Example 3: Calculate the square of a number if it greater than 6\n",
    "\n",
    "number = 9\n",
    "if number > 6:\n",
    "    # Calculate square\n",
    "    print(number * number)\n",
    "print('Next lines of code')"
   ]
  },
  {
   "cell_type": "code",
   "execution_count": 13,
   "id": "088bc689-3358-477f-90f3-0d55220854ff",
   "metadata": {},
   "outputs": [
    {
     "name": "stdout",
     "output_type": "stream",
     "text": [
      "num1 is less than num2\n"
     ]
    }
   ],
   "source": [
    "# Example 4: Check if num1 is less than num2\n",
    "\n",
    "num1, num2 = 6, 9\n",
    "if(num1 < num2):\n",
    "    print(\"num1 is less than num2\")"
   ]
  },
  {
   "cell_type": "code",
   "execution_count": 14,
   "id": "9d75daf2-ddbe-4c74-8092-a120e986222a",
   "metadata": {},
   "outputs": [
    {
     "name": "stdout",
     "output_type": "stream",
     "text": [
      "Hello\n"
     ]
    }
   ],
   "source": [
    "x = 12\n",
    "if x > 10:\n",
    "    print(\"Hello\")"
   ]
  },
  {
   "cell_type": "code",
   "execution_count": 15,
   "id": "57f5f4d9-4d4e-478a-b8ff-23694d4a7b0c",
   "metadata": {},
   "outputs": [
    {
     "name": "stdout",
     "output_type": "stream",
     "text": [
      "Hooray!\n"
     ]
    }
   ],
   "source": [
    "if 5 != 3 * 6:\n",
    "    print (\"Hooray!\")\n",
    "    "
   ]
  },
  {
   "cell_type": "code",
   "execution_count": 16,
   "id": "b0128149-d10c-4878-abfb-96e147d8657c",
   "metadata": {},
   "outputs": [
    {
     "name": "stdout",
     "output_type": "stream",
     "text": [
      "Horray!\n"
     ]
    }
   ],
   "source": [
    "if 5 == 15/3:\n",
    "    print (\"Horray!\")"
   ]
  },
  {
   "cell_type": "code",
   "execution_count": 17,
   "id": "6f108736-5e3e-41c2-8d8b-13d12c2ecce6",
   "metadata": {},
   "outputs": [
    {
     "name": "stdout",
     "output_type": "stream",
     "text": [
      "num1 is less than num2\n"
     ]
    }
   ],
   "source": [
    "num1, num2 = 5, 6\n",
    "if(num1 < num2): print(\"num1 is less than num2\")"
   ]
  },
  {
   "cell_type": "markdown",
   "id": "9a74e5f5-b294-47e2-b222-3f8b0567e382",
   "metadata": {},
   "source": [
    "## if _ else Statement"
   ]
  },
  {
   "cell_type": "code",
   "execution_count": 21,
   "id": "7dde8df2-e508-4c41-b623-9cf79810fb9e",
   "metadata": {},
   "outputs": [
    {
     "name": "stdout",
     "output_type": "stream",
     "text": [
      "Failing grade\n"
     ]
    }
   ],
   "source": [
    "# if_else Statement\n",
    "\n",
    "grade = 60\n",
    "    \n",
    "if grade >= 65:\n",
    "    print(\"Passing grade\")\n",
    "else:\n",
    "    print(\"Failing grade\")"
   ]
  },
  {
   "cell_type": "code",
   "execution_count": 22,
   "id": "ce085c25-35a3-4793-af61-d6db0963a075",
   "metadata": {},
   "outputs": [
    {
     "name": "stdout",
     "output_type": "stream",
     "text": [
      "Positive or Zero\n"
     ]
    }
   ],
   "source": [
    "# Example 2: Program checks if the number is positive or negative and displays an appropriate message\n",
    "\n",
    "num = 3\n",
    "\n",
    "# Try these two variations as well. \n",
    "# num = -5\n",
    "# num = 0\n",
    "\n",
    "if num >= 0:\n",
    "    print(\"Positive or Zero\")\n",
    "else:\n",
    "    print(\"Negative number\")"
   ]
  },
  {
   "cell_type": "code",
   "execution_count": 23,
   "id": "2af8aa77-3423-4ed0-8566-e7cfce802aa0",
   "metadata": {},
   "outputs": [
    {
     "name": "stdout",
     "output_type": "stream",
     "text": [
      "num2 is less than num1\n"
     ]
    }
   ],
   "source": [
    "# Example 3: program to check if a num1 is less than num2\n",
    "\n",
    "num1, num2 = 6, 5\n",
    "if (num1 < num2):\n",
    "    print(\"num1 is less than num2\")\n",
    "else:\n",
    "    print(\"num2 is less than num1\")"
   ]
  },
  {
   "cell_type": "code",
   "execution_count": 24,
   "id": "26ad7f41-d809-425c-ba12-25e7bdfcc2b0",
   "metadata": {},
   "outputs": [
    {
     "name": "stdout",
     "output_type": "stream",
     "text": [
      "Correct password\n",
      "Incorrect Password\n"
     ]
    }
   ],
   "source": [
    "# Example 4:\n",
    "\n",
    "def password_check(password):\n",
    "    if password == \"Python@99>\":\n",
    "        print(\"Correct password\")\n",
    "    else:\n",
    "        print(\"Incorrect Password\")\n",
    "\n",
    "password_check(\"Python@99>\")\n",
    "# Output Correct password\n",
    "\n",
    "password_check(\"Python99\")\n",
    "# Output Incorrect Password"
   ]
  },
  {
   "cell_type": "code",
   "execution_count": 25,
   "id": "3f3f16e7-935e-48a1-9fb2-303a003f3e1a",
   "metadata": {},
   "outputs": [
    {
     "name": "stdout",
     "output_type": "stream",
     "text": [
      "positive\n"
     ]
    }
   ],
   "source": [
    "number = 96\n",
    "if number > 0: print(\"positive\") \n",
    "else: print(\"negative\")"
   ]
  },
  {
   "cell_type": "code",
   "execution_count": 26,
   "id": "eb459b4c-172e-4035-8074-9e8da0522062",
   "metadata": {},
   "outputs": [
    {
     "name": "stdout",
     "output_type": "stream",
     "text": [
      "world\n"
     ]
    }
   ],
   "source": [
    "x = 12\n",
    "if 10 < x < 11:\n",
    "    print(\"hello\")\n",
    "else:\n",
    "    print(\"world\")"
   ]
  },
  {
   "cell_type": "markdown",
   "id": "6ea4d547-a620-4041-a2d7-2367843adb23",
   "metadata": {},
   "source": [
    "## if_elif_else_statement"
   ]
  },
  {
   "cell_type": "code",
   "execution_count": 27,
   "id": "2f210d24-e559-428e-9e0f-1a3f849d0fa1",
   "metadata": {},
   "outputs": [
    {
     "name": "stdout",
     "output_type": "stream",
     "text": [
      "Zero\n"
     ]
    }
   ],
   "source": [
    "# if_elif_else_statement\n",
    "\n",
    "'''In this program, we check if the number is positive or negative or zero and \n",
    "display an appropriate message'''\n",
    "\n",
    "num = 0\n",
    "\n",
    "# Try these two variations as well:\n",
    "# num = 0\n",
    "# num = -4.5\n",
    "\n",
    "if num > 0:\n",
    "    print(\"Positive number\")\n",
    "elif num == 0:\n",
    "    print(\"Zero\")\n",
    "else:\n",
    "    print(\"Negative number\")"
   ]
  },
  {
   "cell_type": "code",
   "execution_count": 28,
   "id": "3dac1739-63ce-41a1-8eee-558e501dfdb1",
   "metadata": {},
   "outputs": [
    {
     "name": "stdout",
     "output_type": "stream",
     "text": [
      "num1 is equal to num2\n"
     ]
    }
   ],
   "source": [
    "# Example 2:\n",
    "\n",
    "num1, num2 = 5, 5\n",
    "if(num1 > num2):\n",
    "    print(\"num1 is greater than num2\")\n",
    "elif(num1 == num2):\n",
    "    print(\"num1 is equal to num2\")\n",
    "else:\n",
    "    print(\"num1 is less than num2\")"
   ]
  },
  {
   "cell_type": "code",
   "execution_count": 29,
   "id": "15d56bd8-abd0-4a88-ad25-e096a37a3279",
   "metadata": {},
   "outputs": [
    {
     "name": "stdout",
     "output_type": "stream",
     "text": [
      "x<y\n"
     ]
    }
   ],
   "source": [
    "# Example 3:\n",
    "\n",
    "x = 10\n",
    "y = 12\n",
    "if x > y:\n",
    "    print(\"x>y\")\n",
    "elif x < y:\n",
    "    print(\"x<y\")\n",
    "else:\n",
    "    print(\"x=y\")"
   ]
  },
  {
   "cell_type": "code",
   "execution_count": 30,
   "id": "4bad66d1-55d3-4063-88fc-ec2406a3724f",
   "metadata": {},
   "outputs": [
    {
     "name": "stdout",
     "output_type": "stream",
     "text": [
      "A grade\n"
     ]
    }
   ],
   "source": [
    "# Example 4:\n",
    "\n",
    "grade = 96\n",
    "\n",
    "if grade >= 90:\n",
    "    print(\"A grade\")\n",
    "elif grade >=80:\n",
    "    print(\"B grade\")\n",
    "elif grade >=70:\n",
    "    print(\"C grade\")\n",
    "elif grade >= 65:\n",
    "    print(\"D grade\")\n",
    "else:\n",
    "    print(\"Failing grade\")"
   ]
  },
  {
   "cell_type": "code",
   "execution_count": 31,
   "id": "3eab0ec9-970d-43c6-870d-282dcabdbf89",
   "metadata": {},
   "outputs": [
    {
     "name": "stdout",
     "output_type": "stream",
     "text": [
      "Admin\n",
      "Editor\n",
      "Guest\n",
      "Wrong entry\n"
     ]
    }
   ],
   "source": [
    "# Example 5:\n",
    "\n",
    "def user_check(choice):\n",
    "    if choice == 1:\n",
    "        print(\"Admin\")\n",
    "    elif choice == 2:\n",
    "        print(\"Editor\")\n",
    "    elif choice == 3:\n",
    "        print(\"Guest\")\n",
    "    else:\n",
    "        print(\"Wrong entry\")\n",
    "\n",
    "user_check(1)  # Admin\n",
    "user_check(2)  # Editor\n",
    "user_check(3)  # Guest\n",
    "user_check(4)  # Wrong entry"
   ]
  },
  {
   "cell_type": "markdown",
   "id": "41608221-b2a0-4e64-8a68-4a6fe25d71a8",
   "metadata": {},
   "source": [
    "## Nested_if_statemen"
   ]
  },
  {
   "cell_type": "code",
   "execution_count": 32,
   "id": "d49301fa-7571-4295-bbd7-66ce7e2ce1ec",
   "metadata": {},
   "outputs": [
    {
     "name": "stdout",
     "output_type": "stream",
     "text": [
      "All Conditions are false\n"
     ]
    }
   ],
   "source": [
    "# Nested_if_statement\n",
    "\n",
    "a=10\n",
    "if a>=20:  # Condition FALSE\n",
    "    print (\"Condition is True\")\n",
    "else:  # Code will go to ELSE body\n",
    "    if a>=15:  # Condition FALSE\n",
    "        print (\"Checking second value\")\n",
    "    else:  # Code will go to ELSE body\n",
    "        print (\"All Conditions are false\")"
   ]
  },
  {
   "cell_type": "code",
   "execution_count": 33,
   "id": "89d7d200-cfb2-434c-8cdc-49e746c0254e",
   "metadata": {},
   "outputs": [
    {
     "name": "stdout",
     "output_type": "stream",
     "text": [
      "x<y\n",
      "x=10\n"
     ]
    }
   ],
   "source": [
    "# Example 2:\n",
    "\n",
    "x = 10\n",
    "y = 12\n",
    "if x > y:\n",
    "    print( \"x>y\")\n",
    "elif x < y:\n",
    "    print( \"x<y\")\n",
    "    if x==10:\n",
    "        print (\"x=10\")\n",
    "    else:\n",
    "        print (\"invalid\")\n",
    "else:\n",
    "    print (\"x=y\")"
   ]
  },
  {
   "cell_type": "code",
   "execution_count": 34,
   "id": "85769336-c6ee-4d3c-914d-f7233f7dee1b",
   "metadata": {},
   "outputs": [
    {
     "name": "stdout",
     "output_type": "stream",
     "text": [
      "num1 is neither positive nor negative\n"
     ]
    }
   ],
   "source": [
    "# Example 3:\n",
    "\n",
    "num1 = 0\n",
    "if (num1 != 0):  # For zero condition is FALSE\n",
    "    if(num1 > 0):  \n",
    "        print(\"num1 is a positive number\")\n",
    "    else:  \n",
    "        print(\"num1 is a negative number\")\n",
    "else:  # For zero condition is TRUE\n",
    "    print(\"num1 is neither positive nor negative\")"
   ]
  },
  {
   "cell_type": "code",
   "execution_count": 35,
   "id": "b9af69e9-d4c1-45c7-8605-a3542cf1ba4f",
   "metadata": {},
   "outputs": [
    {
     "name": "stdin",
     "output_type": "stream",
     "text": [
      "Enter a number:  3\n"
     ]
    },
    {
     "name": "stdout",
     "output_type": "stream",
     "text": [
      "Positive number\n"
     ]
    }
   ],
   "source": [
    "# Example 4:\n",
    "\n",
    "'''In this program, we input a number check if the number is \n",
    "positive or negative or zero and display an appropriate message. \n",
    "This time we use nested if statement'''\n",
    "\n",
    "num = float(input(\"Enter a number: \"))\n",
    "if num >= 0:\n",
    "    if num == 0:\n",
    "        print(\"Zero\")\n",
    "    else:\n",
    "        print(\"Positive number\")\n",
    "else:\n",
    "    print(\"Negative number\")"
   ]
  },
  {
   "cell_type": "code",
   "execution_count": 36,
   "id": "1d6b9d72-2045-48f4-a467-b52ab69ecd45",
   "metadata": {},
   "outputs": [
    {
     "name": "stdout",
     "output_type": "stream",
     "text": [
      "96 is greater than 66\n",
      "96 and 96 are equal\n"
     ]
    }
   ],
   "source": [
    "# Example 5:\n",
    "\n",
    "def number_arithmetic(num1, num2):\n",
    "    if num1 >= num2:\n",
    "        if num1 == num2:\n",
    "            print(f'{num1} and {num2} are equal')\n",
    "        else:\n",
    "            print(f'{num1} is greater than {num2}')\n",
    "    else:\n",
    "        print(f'{num1} is smaller than {num2}')\n",
    "\n",
    "number_arithmetic(96, 66)\n",
    "# Output 96 is greater than 66\n",
    "number_arithmetic(96, 96)\n",
    "# Output 56 and 56 are equal"
   ]
  },
  {
   "cell_type": "markdown",
   "id": "7c74d78d-1dbe-45c9-90f6-1c810e7768ef",
   "metadata": {},
   "source": [
    "## Ternary expresion condotional statement"
   ]
  },
  {
   "cell_type": "code",
   "execution_count": 38,
   "id": "9fb918ab-e2ee-4b45-8b50-5775ae973449",
   "metadata": {},
   "outputs": [
    {
     "name": "stdout",
     "output_type": "stream",
     "text": [
      "Next level\n"
     ]
    }
   ],
   "source": [
    "# Ternary expresion condotional statement \n",
    "user_score = 90\n",
    "\n",
    "if user_score > 50:\n",
    "    print(\"Next level\")\n",
    "else:\n",
    "    print(\"Repeat level\")"
   ]
  },
  {
   "cell_type": "code",
   "execution_count": 41,
   "id": "723064d7-905f-4172-8618-b3f2f7d0bacc",
   "metadata": {},
   "outputs": [
    {
     "name": "stdout",
     "output_type": "stream",
     "text": [
      "10\n"
     ]
    }
   ],
   "source": [
    "a = 10\n",
    "b = 20\n",
    "c = a if a < b else b\n",
    "print(c)"
   ]
  },
  {
   "cell_type": "code",
   "execution_count": null,
   "id": "6e5e4ae4-58dd-40bb-98db-10dcbed67fa4",
   "metadata": {},
   "outputs": [],
   "source": []
  },
  {
   "cell_type": "markdown",
   "id": "76eb972e-e334-4573-bfd6-b3470ed9183a",
   "metadata": {},
   "source": [
    "## Loops"
   ]
  },
  {
   "cell_type": "markdown",
   "id": "9020aa24-db32-47b9-8b3d-6ef55cdcd77e",
   "metadata": {},
   "source": [
    "## For Loop"
   ]
  },
  {
   "cell_type": "code",
   "execution_count": 78,
   "id": "48378e0c-0787-49c8-9535-07d94ba16bf3",
   "metadata": {},
   "outputs": [
    {
     "name": "stdout",
     "output_type": "stream",
     "text": [
      "one\n",
      "two\n",
      "three\n",
      "four\n",
      "five\n"
     ]
    }
   ],
   "source": [
    "# Example 1: for loop\n",
    "words = ['one', 'two', 'three', 'four', 'five']\n",
    "\n",
    "for i in words:\n",
    "    print(i)"
   ]
  },
  {
   "cell_type": "code",
   "execution_count": 79,
   "id": "b9e47470-d86f-4808-9782-1b421327fd43",
   "metadata": {},
   "outputs": [
    {
     "name": "stdout",
     "output_type": "stream",
     "text": [
      "30.0\n"
     ]
    }
   ],
   "source": [
    "# Example 2: Calculate the average of list of numbers\n",
    "\n",
    "numbers = [10, 20, 30, 40, 50]\n",
    "\n",
    "# definite iteration\n",
    "# run loop 5 times because list contains 5 items\n",
    "sum = 0\n",
    "for i in numbers:\n",
    "    sum = sum + i\n",
    "list_size = len(numbers)\n",
    "average = sum / list_size\n",
    "print(average)"
   ]
  },
  {
   "cell_type": "code",
   "execution_count": 81,
   "id": "80074d8b-3fb5-486d-8b24-8d45d57af1c5",
   "metadata": {},
   "outputs": [
    {
     "name": "stdout",
     "output_type": "stream",
     "text": [
      "0\n",
      "1\n",
      "2\n",
      "3\n",
      "4\n",
      "5\n",
      "6\n",
      "7\n",
      "8\n",
      "9\n"
     ]
    }
   ],
   "source": [
    "# Example 3:\n",
    "\n",
    "for num in range(10):\n",
    "    print(num)"
   ]
  },
  {
   "cell_type": "code",
   "execution_count": 82,
   "id": "447efe30-27ae-4a3e-b766-e2ecc4d356be",
   "metadata": {},
   "outputs": [
    {
     "name": "stdout",
     "output_type": "stream",
     "text": [
      "1\n",
      "2\n",
      "3\n",
      "4\n",
      "5\n",
      "6\n",
      "7\n",
      "8\n",
      "9\n",
      "10\n"
     ]
    }
   ],
   "source": [
    "# Example 4:\n",
    "\n",
    "for i in range(1, 11):\n",
    "    print(i)"
   ]
  },
  {
   "cell_type": "code",
   "execution_count": 83,
   "id": "ae723bee-8a36-49d9-bd5d-0aa698e634b4",
   "metadata": {},
   "outputs": [
    {
     "name": "stdout",
     "output_type": "stream",
     "text": [
      "2\n",
      "4\n",
      "6\n",
      "8\n",
      "10\n"
     ]
    }
   ],
   "source": [
    "# Example 5:\n",
    "\n",
    "for i in range (2, 12, 2):  # beginning 2 with distance of 2 and stop before 12\n",
    "    print (i)"
   ]
  },
  {
   "cell_type": "code",
   "execution_count": 84,
   "id": "b0a84c8d-6ebd-43aa-92d7-fd477b2026b3",
   "metadata": {},
   "outputs": [
    {
     "name": "stdout",
     "output_type": "stream",
     "text": [
      "2\n",
      "4\n",
      "6\n",
      "8\n",
      "10\n"
     ]
    }
   ],
   "source": [
    "# Example 6:\n",
    "\n",
    "num=2\n",
    "\n",
    "for a in range (1,6):  # range (1,6) means numbers from 1 to 5, i.e., (1,2,3,4,5)\n",
    "    print (num * a)"
   ]
  },
  {
   "cell_type": "code",
   "execution_count": 49,
   "id": "8c9083de-22f8-4c28-8403-4f7fec7b2e7f",
   "metadata": {},
   "outputs": [
    {
     "name": "stdout",
     "output_type": "stream",
     "text": [
      "1\n",
      "3\n",
      "6\n",
      "10\n",
      "15\n",
      "21\n",
      "28\n",
      "36\n",
      "45\n",
      "55\n"
     ]
    },
    {
     "data": {
      "text/plain": [
       "'\\n0+1 = 1\\n1+2 = 3\\n3+3 = 6\\n6+4 = 10\\n10+5 =15\\n21\\n28\\n36\\n45\\n45+10 = 55\\n'"
      ]
     },
     "execution_count": 49,
     "metadata": {},
     "output_type": "execute_result"
    }
   ],
   "source": [
    "# Example 6: Find Sum of 10 Numbers\n",
    "\n",
    "sum=0\n",
    "for n in range(1,11):  # range (1,11) means numbers from 1 to 5, i.e., (1,2,3,4,5,6,7,8,9,10)\n",
    "    sum+=n  \n",
    "    print (sum)\n",
    "    \n",
    "'''\n",
    "0+1 = 1\n",
    "1+2 = 3\n",
    "3+3 = 6\n",
    "6+4 = 10\n",
    "10+5 =15\n",
    "21\n",
    "28\n",
    "36\n",
    "45\n",
    "45+10 = 55\n",
    "'''"
   ]
  },
  {
   "cell_type": "code",
   "execution_count": 85,
   "id": "1dfa885d-8291-43fe-96b9-1e81951b6440",
   "metadata": {},
   "outputs": [
    {
     "name": "stdout",
     "output_type": "stream",
     "text": [
      "Odd Number: 1\n",
      "Even Number: 2\n",
      "Odd Number: 3\n",
      "Even Number: 4\n",
      "Odd Number: 5\n",
      "Even Number: 6\n",
      "Odd Number: 7\n",
      "Even Number: 8\n",
      "Odd Number: 9\n",
      "Even Number: 10\n"
     ]
    }
   ],
   "source": [
    "# Example 7: Print all even and odd numbers\n",
    "\n",
    "for i in range(1, 11):\n",
    "    if i % 2 == 0:\n",
    "        print('Even Number:', i)\n",
    "    else:\n",
    "        print('Odd Number:', i)"
   ]
  },
  {
   "cell_type": "markdown",
   "id": "9b587893-b14e-42bb-adf1-62b71faa4988",
   "metadata": {},
   "source": [
    "## While Loop"
   ]
  },
  {
   "cell_type": "code",
   "execution_count": 51,
   "id": "67763729-3cdf-41ec-9608-7cff65497797",
   "metadata": {},
   "outputs": [
    {
     "name": "stdout",
     "output_type": "stream",
     "text": [
      "1\n",
      "2\n",
      "3\n",
      "4\n"
     ]
    }
   ],
   "source": [
    "# While Loop\n",
    "\n",
    "# Example 1: Print numbers less than 5\n",
    "count = 1\n",
    "# run loop till count is less than 5\n",
    "while count < 5:\n",
    "    print(count)\n",
    "    count = count + 1"
   ]
  },
  {
   "cell_type": "code",
   "execution_count": 52,
   "id": "f8867be5-ccdd-4112-879f-28f8a8cf0608",
   "metadata": {},
   "outputs": [
    {
     "name": "stdout",
     "output_type": "stream",
     "text": [
      "Sum of first 10 number is: 55\n"
     ]
    }
   ],
   "source": [
    "# Example 2:\n",
    "\n",
    "num = 10\n",
    "sum = 0\n",
    "i = 1\n",
    "while i <= num:\n",
    "    sum = sum + i\n",
    "    i = i + 1\n",
    "print(\"Sum of first 10 number is:\", sum)"
   ]
  },
  {
   "cell_type": "code",
   "execution_count": 53,
   "id": "b6f96af0-a57a-4b67-87f3-957001e5266b",
   "metadata": {},
   "outputs": [
    {
     "name": "stdout",
     "output_type": "stream",
     "text": [
      "Value of a is 10\n",
      "Value of a is 8\n",
      "Value of a is 6\n",
      "Value of a is 4\n",
      "Value of a is 2\n",
      "Loop is Completed\n"
     ]
    }
   ],
   "source": [
    "# Example 3:\n",
    "\n",
    "a=10        # 'a' is my variable\n",
    "\n",
    "while a>0:  # Enter the body of while loop because condition is TRUE\n",
    "    print ((\"Value of a is\"),a)\n",
    "    a=a-2\n",
    "print (\"Loop is Completed\")"
   ]
  },
  {
   "cell_type": "code",
   "execution_count": 54,
   "id": "9240129c-d6e3-4677-b4dc-853cf1a470c0",
   "metadata": {},
   "outputs": [
    {
     "name": "stdout",
     "output_type": "stream",
     "text": [
      "9.999999999999998\n"
     ]
    }
   ],
   "source": [
    "# Example 4:\n",
    "\n",
    "n=153\n",
    "sum=0\n",
    "\n",
    "while n>0:\n",
    "    r=n%10   # r is the remainder of the division\n",
    "    sum+=r   # sum+=r is equal to sum = sum+r\n",
    "    n=n/10\n",
    "print (sum)"
   ]
  },
  {
   "cell_type": "code",
   "execution_count": 55,
   "id": "ee0b89b1-ec72-4837-a20c-21483151536f",
   "metadata": {},
   "outputs": [
    {
     "name": "stdout",
     "output_type": "stream",
     "text": [
      "Total iteration required 3\n"
     ]
    }
   ],
   "source": [
    "# Example 5: How many times a given number can be divided by 3 before it is less than or equal to 10.\n",
    "\n",
    "count = 0\n",
    "number = 180\n",
    "while number > 10:\n",
    "    # divide number by 3\n",
    "    number = number / 3\n",
    "    # increase count\n",
    "    count = count + 1\n",
    "print('Total iteration required', count)"
   ]
  },
  {
   "cell_type": "code",
   "execution_count": 66,
   "id": "a249473e-5dc4-48cf-99ad-ddd1534793ff",
   "metadata": {},
   "outputs": [
    {
     "name": "stdout",
     "output_type": "stream",
     "text": [
      "The sum is 55\n"
     ]
    }
   ],
   "source": [
    "# Example 6: Program to add natural numbers up to sum = 1+2+3+...+n\n",
    "\n",
    "# To take input from the user, \n",
    "# n = int(input(\"Enter n: \"))\n",
    "\n",
    "n = 10\n",
    "\n",
    "# initialize sum and counter\n",
    "sum = 0\n",
    "i = 1\n",
    "\n",
    "while i <= n:\n",
    "    sum = sum + i\n",
    "    i = i+1    # update counter, i.e., the value of i will change from 1 to 2 in next iteration...\n",
    "\n",
    "# print the sum\n",
    "print(\"The sum is\", sum)"
   ]
  },
  {
   "cell_type": "code",
   "execution_count": 67,
   "id": "bbab9d91-f004-4f4d-bff8-545a4779545b",
   "metadata": {},
   "outputs": [
    {
     "name": "stdout",
     "output_type": "stream",
     "text": [
      "1 1 2 3 5 8 13 21 34 55 89 144 233 377 610 987 \n"
     ]
    }
   ],
   "source": [
    "# Example 7: simple fibonacci series\n",
    "# the sum of two elements defines the next set\n",
    "\n",
    "a, b = 0, 1\n",
    "while b < 1000:\n",
    "    print(b, end = ' ', flush = True)\n",
    "    a, b = b, a + b\n",
    "\n",
    "print() # line ending"
   ]
  },
  {
   "cell_type": "code",
   "execution_count": 58,
   "id": "7da32477-b1c4-4a19-80d7-d659a648e3c2",
   "metadata": {},
   "outputs": [
    {
     "name": "stdin",
     "output_type": "stream",
     "text": [
      "Please Enter Number  2\n"
     ]
    },
    {
     "name": "stdout",
     "output_type": "stream",
     "text": [
      "2 is a even number\n",
      "1 is a odd number\n"
     ]
    }
   ],
   "source": []
  },
  {
   "cell_type": "code",
   "execution_count": 68,
   "id": "a9d74acb-98f9-4662-aea7-a0b35806e3bb",
   "metadata": {},
   "outputs": [
    {
     "name": "stdout",
     "output_type": "stream",
     "text": [
      "The sum is 30\n"
     ]
    }
   ],
   "source": [
    "# Example 8: Add all even numbers from 1 to 10 using while loop\n",
    "# 2+4+6+8+10\n",
    "\n",
    "# n = int(input(\"Please enter the maximum value: \"))\n",
    "n = 10\n",
    "\n",
    "sum = 0\n",
    "i = 1\n",
    "\n",
    "while i <= n:\n",
    "    if(i%2==0):\n",
    "        sum = sum + i\n",
    "#        sum += i\n",
    "    i = i+1\n",
    "    \n",
    "# print the sum\n",
    "print(\"The sum is\", sum)"
   ]
  },
  {
   "cell_type": "code",
   "execution_count": 60,
   "id": "68fccea3-0c2f-4a8f-839d-b222b2a966cc",
   "metadata": {},
   "outputs": [
    {
     "name": "stdout",
     "output_type": "stream",
     "text": [
      "17\n",
      "19\n",
      "23\n",
      "29\n",
      "31\n",
      "37\n",
      "41\n",
      "43\n",
      "47\n",
      "53\n",
      "The total sum is 340\n"
     ]
    }
   ],
   "source": [
    "# Example 4: Write a code to add all the prime numbers between 17 to 53 using while loop\n",
    "# 17, 19, 23, 29, 31, 37, 41, 43, 47, 53\n",
    "\n",
    "'''Method 1'''\n",
    "\n",
    "sum=0\n",
    "for i in range(17,54):\n",
    "    k=2\n",
    "    if i>=2:\n",
    "        while i % k!=0:\n",
    "            k+=1\n",
    "        if i==k:\n",
    "            sum += i\n",
    "            print(i)\n",
    "print(\"The total sum is\",sum)"
   ]
  },
  {
   "cell_type": "code",
   "execution_count": 69,
   "id": "d423825c-463d-4f34-90f7-0704929d772c",
   "metadata": {},
   "outputs": [
    {
     "name": "stdout",
     "output_type": "stream",
     "text": [
      "60\n",
      "HelloWorld\n",
      "90.45\n"
     ]
    }
   ],
   "source": [
    "# Example 9:\n",
    "\n",
    "list = [60, \"HelloWorld\", 90.45, 50, 67.23, \"Python\"]  # total 6 elements\n",
    "i = 0\n",
    "while(i < 6):\n",
    "    print(list[i])\n",
    "    i = i + 1\n",
    "    if(i == 3):\n",
    "        break"
   ]
  },
  {
   "cell_type": "code",
   "execution_count": 71,
   "id": "e83efd6e-7845-44ca-bc05-9b1cac306ca4",
   "metadata": {},
   "outputs": [
    {
     "name": "stdout",
     "output_type": "stream",
     "text": [
      "A l a n W h i t e "
     ]
    }
   ],
   "source": [
    "# Exampl 10 : Write a while loop to display only alphabets from a string.\n",
    "\n",
    "name = 'Alan99White'\n",
    "\n",
    "size = len(name)\n",
    "i = -1\n",
    "# iterate loop till the last character\n",
    "while i < size - 1:\n",
    "    i = i + 1\n",
    "    # skip while loop body if current character is not alphabet\n",
    "    if not name[i].isalpha():\n",
    "        continue\n",
    "    # print current character\n",
    "    print(name[i], end=' ')"
   ]
  },
  {
   "cell_type": "code",
   "execution_count": null,
   "id": "9bbffa2c-e1fb-40be-b6ce-03159c359e00",
   "metadata": {},
   "outputs": [],
   "source": []
  },
  {
   "cell_type": "markdown",
   "id": "15a2883f-4c82-4e0c-b2c5-072f3fc4547f",
   "metadata": {},
   "source": [
    "## User input"
   ]
  },
  {
   "cell_type": "code",
   "execution_count": 1,
   "id": "1dffb206-7c62-4258-9b95-06a06f0fbfeb",
   "metadata": {},
   "outputs": [
    {
     "name": "stdin",
     "output_type": "stream",
     "text": [
      "My name is : anuj\n"
     ]
    },
    {
     "name": "stdout",
     "output_type": "stream",
     "text": [
      "my name is  anuj\n"
     ]
    },
    {
     "name": "stdin",
     "output_type": "stream",
     "text": [
      "inter firat number: 85\n",
      "inter second number: 5\n"
     ]
    },
    {
     "name": "stdout",
     "output_type": "stream",
     "text": [
      "855\n",
      "90\n"
     ]
    }
   ],
   "source": [
    "#Example 1\n",
    "a=input(\"My name is :\")\n",
    "print(\"my name is \", a)\n",
    "x=input(\"inter firat number:\")\n",
    "y=input(\"inter second number:\")\n",
    "print(x+y)\n",
    "print(int(x)+int(y))"
   ]
  },
  {
   "cell_type": "code",
   "execution_count": null,
   "id": "0e1b8f1c-fa4d-440b-a8a2-a48bfb150a78",
   "metadata": {},
   "outputs": [],
   "source": []
  },
  {
   "cell_type": "code",
   "execution_count": 6,
   "id": "7c02f577-f2e0-431e-aeba-e50ce1e377c4",
   "metadata": {},
   "outputs": [
    {
     "name": "stdin",
     "output_type": "stream",
     "text": [
      "Enter username: shyam\n"
     ]
    },
    {
     "name": "stdout",
     "output_type": "stream",
     "text": [
      "Username is: shyam\n"
     ]
    }
   ],
   "source": [
    "#Example 2\n",
    "username = input(\"Enter username:\")\n",
    "print(\"Username is: \" + username)"
   ]
  },
  {
   "cell_type": "code",
   "execution_count": null,
   "id": "c86afbe8-849a-4b9e-926a-f12e3c64543d",
   "metadata": {},
   "outputs": [],
   "source": []
  },
  {
   "cell_type": "markdown",
   "id": "8cb751c0-6f0d-447a-972f-7c75e7b568c8",
   "metadata": {},
   "source": [
    "## String"
   ]
  },
  {
   "cell_type": "code",
   "execution_count": 3,
   "id": "69bead27-1d7f-47f4-ae5d-55042e08eef2",
   "metadata": {},
   "outputs": [
    {
     "name": "stdout",
     "output_type": "stream",
     "text": [
      "Hello, shyam\n",
      "s\n",
      "h\n",
      "y\n",
      "a\n",
      "m\n",
      "Lets use a for loop\n",
      "\n",
      "H\n",
      "e\n",
      " \n",
      "s\n",
      "a\n",
      "i\n",
      "d\n",
      ",\n",
      " \n",
      "\n",
      "\n",
      "H\n",
      "i\n",
      " \n",
      "s\n",
      "h\n",
      "y\n",
      "a\n",
      "m\n",
      "\n",
      "\n",
      "h\n",
      "e\n",
      "y\n",
      " \n",
      "I\n",
      " \n",
      "a\n",
      "m\n",
      " \n",
      "g\n",
      "o\n",
      "o\n",
      "d\n",
      "\n",
      "\n",
      "\"\n",
      "I\n",
      " \n",
      "w\n",
      "a\n",
      "n\n",
      "t\n",
      " \n",
      "t\n",
      "o\n",
      " \n",
      "e\n",
      "a\n",
      "t\n",
      " \n",
      "a\n",
      "n\n",
      " \n",
      "a\n",
      "p\n",
      "p\n",
      "l\n",
      "e\n"
     ]
    }
   ],
   "source": [
    "name = \"shyam\"\n",
    "friend = \"Rohan\"\n",
    "anotherFriend = 'Lovish'\n",
    "apple = '''He said, \n",
    "Hi shyam\n",
    "hey I am good\n",
    "\"I want to eat an apple'''\n",
    " \n",
    "print(\"Hello, \" + name)\n",
    "# print(apple) \n",
    "print(name[0])\n",
    "print(name[1])\n",
    "print(name[2])\n",
    "print(name[3])\n",
    "print(name[4])\n",
    "# print(name[5]) # Throws an error\n",
    "print(\"Lets use a for loop\\n\")\n",
    "for character in apple:\n",
    "    print(character)"
   ]
  },
  {
   "cell_type": "code",
   "execution_count": null,
   "id": "45747aa1-093a-4ca3-a12e-365586d4d065",
   "metadata": {},
   "outputs": [],
   "source": []
  },
  {
   "cell_type": "markdown",
   "id": "18c13ca7-3864-4e6c-ba4a-c91730540b4a",
   "metadata": {},
   "source": [
    "## Integers"
   ]
  },
  {
   "cell_type": "code",
   "execution_count": 4,
   "id": "f56852bb-79d2-46b7-9a5f-d2af7e5396dd",
   "metadata": {},
   "outputs": [
    {
     "name": "stdout",
     "output_type": "stream",
     "text": [
      "Sum: 15\n",
      "Difference: 5\n",
      "Product: 50\n",
      "Division: 2\n"
     ]
    }
   ],
   "source": [
    "# Define integers\n",
    "a = 10\n",
    "b = 5\n",
    "\n",
    "# Perform arithmetic operations\n",
    "sum_result = a + b       # Addition\n",
    "diff_result = a - b      # Subtraction\n",
    "product_result = a * b   # Multiplication\n",
    "division_result = a // b # Integer division\n",
    "\n",
    "print(\"Sum:\", sum_result)\n",
    "print(\"Difference:\", diff_result)\n",
    "print(\"Product:\", product_result)\n",
    "print(\"Division:\", division_result)\n"
   ]
  },
  {
   "cell_type": "code",
   "execution_count": 5,
   "id": "ead97875-35eb-4b97-a725-7862f924b6ba",
   "metadata": {},
   "outputs": [
    {
     "name": "stdout",
     "output_type": "stream",
     "text": [
      "Length of the rectangle: 12\n",
      "Width of the rectangle: 8\n",
      "Area of the rectangle: 96\n",
      "Perimeter of the rectangle: 40\n"
     ]
    }
   ],
   "source": [
    "# Define the dimensions of the rectangle\n",
    "length = 12\n",
    "width = 8\n",
    "\n",
    "# Calculate the area of the rectangle\n",
    "area = length * width\n",
    "\n",
    "# Calculate the perimeter of the rectangle\n",
    "perimeter = 2 * (length + width)\n",
    "\n",
    "print(\"Length of the rectangle:\", length)\n",
    "print(\"Width of the rectangle:\", width)\n",
    "print(\"Area of the rectangle:\", area)\n",
    "print(\"Perimeter of the rectangle:\", perimeter)\n"
   ]
  },
  {
   "cell_type": "code",
   "execution_count": null,
   "id": "276901af-d05f-4939-8f8b-3c2e14f6149a",
   "metadata": {},
   "outputs": [],
   "source": [
    "\n"
   ]
  },
  {
   "cell_type": "markdown",
   "id": "613d815d-a84e-4205-bea8-e08b27b4ed06",
   "metadata": {},
   "source": [
    "## Float "
   ]
  },
  {
   "cell_type": "code",
   "execution_count": 7,
   "id": "930395e0-27ee-4878-a315-94cef9339d84",
   "metadata": {},
   "outputs": [
    {
     "name": "stdout",
     "output_type": "stream",
     "text": [
      "Sum: 8.25\n",
      "Difference: 3.25\n",
      "Product: 14.375\n",
      "Division: 2.3\n"
     ]
    }
   ],
   "source": [
    "# Define float values\n",
    "x = 5.75\n",
    "y = 2.5\n",
    "\n",
    "# Perform arithmetic operations\n",
    "sum_result = x + y        # Addition\n",
    "diff_result = x - y       # Subtraction\n",
    "product_result = x * y    # Multiplication\n",
    "division_result = x / y   # Division\n",
    "\n",
    "print(\"Sum:\", sum_result)\n",
    "print(\"Difference:\", diff_result)\n",
    "print(\"Product:\", product_result)\n",
    "print(\"Division:\", division_result)\n"
   ]
  },
  {
   "cell_type": "code",
   "execution_count": 8,
   "id": "532d2389-43bf-4f4a-af43-d1b594367a17",
   "metadata": {},
   "outputs": [
    {
     "name": "stdout",
     "output_type": "stream",
     "text": [
      "Numbers: [4.5, 3.7, 8.2, 6.4, 2.1]\n",
      "Total Sum: 24.9\n",
      "Average: 4.9799999999999995\n"
     ]
    }
   ],
   "source": [
    "# Define a list of float values\n",
    "numbers = [4.5, 3.7, 8.2, 6.4, 2.1]\n",
    "\n",
    "# Calculate the sum of the numbers\n",
    "total_sum = sum(numbers)\n",
    "\n",
    "# Calculate the average\n",
    "average = total_sum / len(numbers)\n",
    "\n",
    "print(\"Numbers:\", numbers)\n",
    "print(\"Total Sum:\", total_sum)\n",
    "print(\"Average:\", average)\n"
   ]
  },
  {
   "cell_type": "code",
   "execution_count": null,
   "id": "b41b3daf-d016-4e21-84d4-b761dc05e27f",
   "metadata": {},
   "outputs": [],
   "source": []
  },
  {
   "cell_type": "markdown",
   "id": "631e7985-08bd-4323-8a7b-1007a27204af",
   "metadata": {},
   "source": [
    "## Typecasting"
   ]
  },
  {
   "cell_type": "code",
   "execution_count": 9,
   "id": "2805153a-c01f-4673-9fc2-62d85723e1e4",
   "metadata": {},
   "outputs": [
    {
     "name": "stdout",
     "output_type": "stream",
     "text": [
      "3\n",
      "9.9\n"
     ]
    }
   ],
   "source": [
    "a = \"1\"\n",
    "# a = 1\n",
    "b = \"2\"\n",
    "# b = 2\n",
    "print(int(a) + int(b))\n",
    "\n",
    "# Implicit TypeCasting\n",
    "c = 1.9\n",
    "d = 8\n",
    "\n",
    "print(c + d)"
   ]
  },
  {
   "cell_type": "code",
   "execution_count": 10,
   "id": "70555ad4-5fc8-4258-b08c-4d08953cb878",
   "metadata": {},
   "outputs": [
    {
     "name": "stdout",
     "output_type": "stream",
     "text": [
      "7.5\n"
     ]
    }
   ],
   "source": [
    "x = 5       # Integer\n",
    "y = 2.5     # Float\n",
    "\n",
    "result = x + y  # Implicitly converts x to a float\n",
    "\n",
    "print(result)   # Output: 7.5\n"
   ]
  },
  {
   "cell_type": "code",
   "execution_count": 11,
   "id": "aebc9d30-5fa8-4099-917b-097b6c32b13e",
   "metadata": {},
   "outputs": [
    {
     "name": "stdout",
     "output_type": "stream",
     "text": [
      "Original float value: 7.9\n",
      "Converted integer value: 7\n"
     ]
    }
   ],
   "source": [
    "# Define a float value\n",
    "my_float = 7.9\n",
    "\n",
    "# Explicitly convert float to integer\n",
    "my_integer = int(my_float)\n",
    "\n",
    "print(\"Original float value:\", my_float)\n",
    "print(\"Converted integer value:\", my_integer)\n"
   ]
  },
  {
   "cell_type": "code",
   "execution_count": null,
   "id": "5ca6caa9-c95b-4f93-9387-c547b04a1301",
   "metadata": {},
   "outputs": [],
   "source": []
  },
  {
   "cell_type": "code",
   "execution_count": null,
   "id": "da3eeb7e-31fe-4a83-9512-698841521756",
   "metadata": {},
   "outputs": [],
   "source": []
  }
 ],
 "metadata": {
  "kernelspec": {
   "display_name": "Python 3 (ipykernel)",
   "language": "python",
   "name": "python3"
  },
  "language_info": {
   "codemirror_mode": {
    "name": "ipython",
    "version": 3
   },
   "file_extension": ".py",
   "mimetype": "text/x-python",
   "name": "python",
   "nbconvert_exporter": "python",
   "pygments_lexer": "ipython3",
   "version": "3.11.7"
  }
 },
 "nbformat": 4,
 "nbformat_minor": 5
}
